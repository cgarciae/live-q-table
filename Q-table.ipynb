{
 "cells": [
  {
   "cell_type": "code",
   "execution_count": null,
   "metadata": {
    "collapsed": false
   },
   "outputs": [],
   "source": [
    "import numpy as np\n",
    "import gym\n",
    "from numpy.random import choice\n",
    "import random\n",
    "from scipy.interpolate import interp1d\n",
    "\n",
    "env = gym.make(\"Taxi-v2\")"
   ]
  },
  {
   "cell_type": "code",
   "execution_count": null,
   "metadata": {
    "collapsed": false
   },
   "outputs": [],
   "source": [
    "n_actions = env.action_space.n\n",
    "n_states = env.observation_space.n\n",
    "Q = np.zeros([n_states, n_actions])\n",
    "\n",
    "y = 0.99\n",
    "k = 10000.0"
   ]
  },
  {
   "cell_type": "code",
   "execution_count": null,
   "metadata": {
    "collapsed": false
   },
   "outputs": [],
   "source": [
    "print(Q.shape)\n",
    "print(Q)"
   ]
  },
  {
   "cell_type": "code",
   "execution_count": null,
   "metadata": {
    "collapsed": false
   },
   "outputs": [],
   "source": [
    "def next_action(actions, e):\n",
    "    n = len(actions)\n",
    "    \n",
    "    if random.random() < e:\n",
    "        return random.randint(0, n-1)\n",
    "    else:\n",
    "        return np.argmax(actions)"
   ]
  },
  {
   "cell_type": "code",
   "execution_count": null,
   "metadata": {
    "collapsed": false
   },
   "outputs": [],
   "source": [
    "s = env.reset()\n",
    "for i in range(1000):\n",
    "    a = env.action_space.sample()\n",
    "    s, r, done, info = env.step(a)\n",
    "    env.render()\n",
    "    print(r)\n",
    "    print(\"\")\n",
    "    \n",
    "    if done:\n",
    "        break"
   ]
  },
  {
   "cell_type": "code",
   "execution_count": null,
   "metadata": {
    "collapsed": false,
    "scrolled": true
   },
   "outputs": [],
   "source": [
    "r_total = 0\n",
    "e_fun = interp1d([0, 40000], [1, 0.01], bounds_error=False, fill_value=0.01)\n",
    "learning_rate_f = lambda t: k / (k + t)\n",
    "global_step = 0\n",
    "\n",
    "for t in range(200000):\n",
    "    s = env.reset()\n",
    "    \n",
    "    while True:\n",
    "        global_step += 1\n",
    "        learning_rate = learning_rate_f(global_step)\n",
    "        e = e_fun(global_step)\n",
    "        \n",
    "        a = next_action(Q[s], e)\n",
    "\n",
    "        s1, r, done, info = env.step(a)\n",
    "        r_total += r\n",
    "\n",
    "        Q[s, a] += learning_rate * (r + y * np.max(Q[s1]) - Q[s, a])\n",
    "        \n",
    "        s = s1\n",
    "        \n",
    "        if done:\n",
    "            break\n",
    "            \n",
    "    if t % 500 == 0:\n",
    "        print(r_total / 500.0)\n",
    "        r_total = 0"
   ]
  },
  {
   "cell_type": "code",
   "execution_count": null,
   "metadata": {
    "collapsed": false
   },
   "outputs": [],
   "source": [
    "Q"
   ]
  },
  {
   "cell_type": "code",
   "execution_count": null,
   "metadata": {
    "collapsed": false,
    "scrolled": true
   },
   "outputs": [],
   "source": [
    "s = env.reset()\n",
    "for i in range(1000):\n",
    "    a = next_action(Q[s], 0)\n",
    "    s, r, done, info = env.step(a)\n",
    "    env.render()\n",
    "    print(r)\n",
    "    print(\"\")\n",
    "    \n",
    "    if done:\n",
    "        break"
   ]
  },
  {
   "cell_type": "code",
   "execution_count": null,
   "metadata": {
    "collapsed": true
   },
   "outputs": [],
   "source": []
  }
 ],
 "metadata": {
  "kernelspec": {
   "display_name": "Python 2",
   "language": "python",
   "name": "python2"
  },
  "language_info": {
   "codemirror_mode": {
    "name": "ipython",
    "version": 2
   },
   "file_extension": ".py",
   "mimetype": "text/x-python",
   "name": "python",
   "nbconvert_exporter": "python",
   "pygments_lexer": "ipython2",
   "version": "2.7.12+"
  }
 },
 "nbformat": 4,
 "nbformat_minor": 2
}
